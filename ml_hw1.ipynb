{
 "cells": [
  {
   "cell_type": "code",
   "execution_count": 89,
   "metadata": {},
   "outputs": [],
   "source": [
    "import numpy as np\n",
    "import pandas as pd\n",
    "from sklearn.cluster import KMeans, DBSCAN\n",
    "from sklearn.mixture import GaussianMixture"
   ]
  },
  {
   "cell_type": "code",
   "execution_count": 70,
   "metadata": {},
   "outputs": [],
   "source": [
    "mean_list = np.array([(0,0,0),(0,0,1),(0,1,0),(0,1,1),(1,0,0),(1,0,1),(1,1,0),(1,1,1)])\n",
    "sigma_list = np.square(np.array([1/8,1/4,1/2,np.sqrt(2)/2]))"
   ]
  },
  {
   "cell_type": "code",
   "execution_count": 71,
   "metadata": {},
   "outputs": [],
   "source": [
    "def create_dataset(point_list, sigma,size,labels = False):\n",
    "    \n",
    "    diagonal = np.array([[1,0,0],[0,1,0],[0,0,1]])\n",
    "    cov = diagonal*sigma\n",
    "    \n",
    "    dataset = []\n",
    "    \n",
    "    for point in point_list:\n",
    "        \n",
    "        data = np.random.multivariate_normal(point,cov,size=size)\n",
    "        \n",
    "        dataset.append(data)\n",
    "        \n",
    "    if labels:\n",
    "        dataset_labeled = []\n",
    "        for i,d in enumerate(dataset):\n",
    "            dataset_labeled.append([i,d]) \n",
    "        \n",
    "        dataset = dataset_labeled\n",
    "        \n",
    "    return dataset"
   ]
  },
  {
   "cell_type": "code",
   "execution_count": 72,
   "metadata": {},
   "outputs": [],
   "source": [
    "dataset = create_dataset(mean_list, sigma_list[0],20,labels=True)"
   ]
  },
  {
   "cell_type": "code",
   "execution_count": 73,
   "metadata": {},
   "outputs": [],
   "source": [
    "def create_dataframe(dataset):\n",
    "\n",
    "    all_data = []\n",
    "\n",
    "    for d in dataset:\n",
    "\n",
    "        label = d[0]\n",
    "        data = d[1]\n",
    "\n",
    "        for e in data:\n",
    "\n",
    "            f = list(e)\n",
    "            f.append(label)\n",
    "\n",
    "            all_data.append(f)\n",
    "            \n",
    "    df = pd.DataFrame(all_data, columns=['x1','x2','x3','y'])\n",
    "    \n",
    "    return df"
   ]
  },
  {
   "cell_type": "code",
   "execution_count": 76,
   "metadata": {
    "scrolled": false
   },
   "outputs": [],
   "source": [
    "df = create_dataframe(dataset)"
   ]
  },
  {
   "cell_type": "code",
   "execution_count": 82,
   "metadata": {},
   "outputs": [],
   "source": [
    "X,y = df[['x1','x2','x3']].values, df['y'].values"
   ]
  },
  {
   "cell_type": "code",
   "execution_count": 90,
   "metadata": {},
   "outputs": [],
   "source": []
  },
  {
   "cell_type": "code",
   "execution_count": 91,
   "metadata": {},
   "outputs": [],
   "source": []
  },
  {
   "cell_type": "code",
   "execution_count": 92,
   "metadata": {},
   "outputs": [],
   "source": []
  },
  {
   "cell_type": "code",
   "execution_count": 93,
   "metadata": {},
   "outputs": [],
   "source": [
    "def clustering(X):\n",
    "    \n",
    "    k_means = KMeans(n_clusters=8)\n",
    "    \n",
    "    db_scan = DBSCAN() \n",
    "    \n",
    "    em = GaussianMixture(init_params='random')\n",
    "    \n",
    "    \n",
    "    k_means.fit(X)\n",
    "    \n",
    "    db_scan.fit(X)\n",
    "    \n",
    "    em.fit(X)\n",
    "    \n",
    "    return k_means, db_scan, em"
   ]
  },
  {
   "cell_type": "code",
   "execution_count": null,
   "metadata": {},
   "outputs": [],
   "source": []
  }
 ],
 "metadata": {
  "kernelspec": {
   "display_name": "Python 3",
   "language": "python",
   "name": "python3"
  },
  "language_info": {
   "codemirror_mode": {
    "name": "ipython",
    "version": 3
   },
   "file_extension": ".py",
   "mimetype": "text/x-python",
   "name": "python",
   "nbconvert_exporter": "python",
   "pygments_lexer": "ipython3",
   "version": "3.6.4"
  }
 },
 "nbformat": 4,
 "nbformat_minor": 2
}
